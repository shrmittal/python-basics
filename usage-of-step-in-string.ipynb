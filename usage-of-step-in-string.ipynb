{
 "cells": [
  {
   "cell_type": "markdown",
   "metadata": {},
   "source": [
    "String Problem\n",
    "Description\n",
    "In a certain encrypted message which has information about the location(area, city), the characters are jumbled such that first character of the first word is followed by the first character of the second word, then it is followed by second character of the first word and so on\n",
    "\n",
    "In other words, let’s say the location is bandra,mumbai\n",
    "\n",
    "The encrypted message says ‘bmaunmdbraai’.\n",
    "\n",
    "\n",
    "Sample Input:\n",
    "bmaunmdbraai\n",
    "\n",
    "Sample Output:\n",
    "bandra,mumbai\n",
    "\n",
    "Let’s say the size or length of the two words wouldn’t match then the smaller word is appended with # and then encrypted in the above format.\n",
    "\n",
    "With this in mind write a code to identify the right location and print it as place,city."
   ]
  },
  {
   "cell_type": "code",
   "execution_count": 2,
   "metadata": {},
   "outputs": [
    {
     "name": "stdout",
     "output_type": "stream",
     "text": [
      "bmaunmdbraai\n",
      "bandra,mumbai\n"
     ]
    }
   ],
   "source": [
    "string = input()\n",
    "print(string[0:len(string):2].strip('#')+','+string[1:len(string):2].strip('#'))"
   ]
  },
  {
   "cell_type": "code",
   "execution_count": 3,
   "metadata": {},
   "outputs": [
    {
     "name": "stdout",
     "output_type": "stream",
     "text": [
      "kolkatabengal\n",
      "klaaegl,oktbna\n"
     ]
    }
   ],
   "source": [
    "string = input()\n",
    "print(string[0:len(string):2].strip('#')+','+string[1:len(string):2].strip('#'))"
   ]
  },
  {
   "cell_type": "code",
   "execution_count": 7,
   "metadata": {},
   "outputs": [
    {
     "name": "stdout",
     "output_type": "stream",
     "text": [
      "dhdhdhdhd#h#h###\n",
      "dddddhh,hhhh\n"
     ]
    }
   ],
   "source": [
    "string = input()\n",
    "print(string[0:len(string):2].strip('#')+','+string[1:len(string):2].strip('#'))"
   ]
  },
  {
   "cell_type": "code",
   "execution_count": 5,
   "metadata": {},
   "outputs": [
    {
     "name": "stdout",
     "output_type": "stream",
     "text": [
      "kboelnkgaatla#\n",
      "kolkata,bengal\n"
     ]
    }
   ],
   "source": [
    "#import ast,sys\n",
    "#input_str = sys.stdin.read()\n",
    "input_str = input()\n",
    "message1 = input_str[0:-1:2]\n",
    "message2 = input_str[1:len(input_str):2]\n",
    "print(message1.strip('#') + \",\" + message2.strip('#'))"
   ]
  },
  {
   "cell_type": "code",
   "execution_count": 6,
   "metadata": {},
   "outputs": [
    {
     "name": "stdout",
     "output_type": "stream",
     "text": [
      "dhdhdhdhd#h#h###\n",
      "dddddhh,hhhh\n"
     ]
    }
   ],
   "source": [
    "input_str = input()\n",
    "message1 = input_str[0:-1:2]\n",
    "message2 = input_str[1:len(input_str):2]\n",
    "print(message1.strip('#') + \",\" + message2.strip('#'))"
   ]
  }
 ],
 "metadata": {
  "kernelspec": {
   "display_name": "Python 3",
   "language": "python",
   "name": "python3"
  },
  "language_info": {
   "codemirror_mode": {
    "name": "ipython",
    "version": 3
   },
   "file_extension": ".py",
   "mimetype": "text/x-python",
   "name": "python",
   "nbconvert_exporter": "python",
   "pygments_lexer": "ipython3",
   "version": "3.8.3"
  }
 },
 "nbformat": 4,
 "nbformat_minor": 4
}
